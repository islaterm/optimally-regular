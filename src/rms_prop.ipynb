{
 "metadata": {
  "language_info": {
   "codemirror_mode": {
    "name": "ipython",
    "version": 3
   },
   "file_extension": ".py",
   "mimetype": "text/x-python",
   "name": "python",
   "nbconvert_exporter": "python",
   "pygments_lexer": "ipython3",
   "version": 3
  },
  "orig_nbformat": 2
 },
 "nbformat": 4,
 "nbformat_minor": 2,
 "cells": [
  {
   "source": [
    "## 2c) RMSProp\n",
    "\n",
    "En esta parte implementarás el algoritmo de RMSProp (Root Mean Square Propagation) que mantiene un promedio móvil exponencial de los cuadrados de los gradientes calculados hasta el momento y modifica las tasas de aprendizaje para cada parámetro dependiendo de ese promedio. En específico, RMSProp usa la siguiente regla de actualización para cada conjunto de parámetros $\\theta$:\n",
    "<br>\n",
    "\n",
    "\\begin{eqnarray*}\n",
    "S_{\\partial \\theta} & := & \\beta S_{\\partial \\theta} + (1-\\beta)\\left(\\frac{\\partial \\mathcal{L}}{\\partial \\theta}*\\frac{\\partial \\mathcal{L}}{\\partial \\theta}\\right) \\\\\n",
    "\\theta & := & \\theta - \\lambda\\frac{1}{\\sqrt{S_{\\partial \\theta}}}*\\frac{\\partial \\mathcal{L}}{\\partial \\theta}\n",
    "\\end{eqnarray*}\n",
    "<br>\n",
    "\n",
    "donde $S_{\\partial \\theta}$ es un tensor de las mismas dimensiones de $\\theta$ y se inicializa como $0$ antes de emepzar el entrenamiento.\n",
    "La operación $*$ representa a una multiplicación punto a punto.\n",
    "\n",
    "Implementa una nueva clase `RMSProp` que implemente este optimizador. El inicializador debiera tener dos parámetros: `lr` para la tasa de aprendizaje ($\\lambda$ en las fórmulas de arriba) y `beta` para el multiplicador del promedio. Asinga los valores por defecto `lr=0.001` y `beta=0.9`. Agrega un parámetro adicional `epsilon` con valor por defecto $10^{-8}$, y úsalo para evitar la división por $0$ sumándolo al denominador en la fórmula con la raiz cuadrada."
   ],
   "cell_type": "markdown",
   "metadata": {}
  },
  {
   "cell_type": "code",
   "execution_count": null,
   "metadata": {},
   "outputs": [],
   "source": [
    "# Tu código acá\n",
    "\n",
    "class RMSProp():\n",
    "  def __init__(self, parameters, lr=0.001, beta=0.9, epsilon=1e-8):\n",
    "    # en este caso debes inicializar la variable que acumula\n",
    "    # el promedio exponencial de los cuadrados\n",
    "    pass\n",
    "  \n",
    "  def step():\n",
    "    # actualiza acá los parámetros a partir de los gradientes\n",
    "    # y la corrección según S\n",
    "    pass"
   ]
  }
 ]
}