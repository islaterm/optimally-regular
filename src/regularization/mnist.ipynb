{
 "metadata": {
  "language_info": {
   "codemirror_mode": {
    "name": "ipython",
    "version": 3
   },
   "file_extension": ".py",
   "mimetype": "text/x-python",
   "name": "python",
   "nbconvert_exporter": "python",
   "pygments_lexer": "ipython3",
   "version": "3.8.3-final"
  },
  "orig_nbformat": 2,
  "kernelspec": {
   "name": "python3",
   "display_name": "Python 3.8.3 64-bit ('venv')",
   "metadata": {
    "interpreter": {
     "hash": "28f5134b277174e8250d3b58305ab057db22e55d675a79980c788c57d02fe565"
    }
   }
  }
 },
 "nbformat": 4,
 "nbformat_minor": 2,
 "cells": [
  {
   "source": [
    "## Entrenamiento y generalización sobre MNIST \n",
    "\n",
    "Usa tu red neuronal para entrenar con los datos de MNIST. Debes entrenar usando el conjunto de entrenamiento (train set) y probar usando el conjunto de prueba (test set). \n",
    "\n",
    "En este caso nos importa sobre todo el aplicar métodos de regularización a la red para mejorar la generalización (disminuir la diferencia entre error en entrenamiento y error en prueba). Entrena y grafica cómo varía la pérdida y el acierto en el conjunto de entrenamiento y en el conjunto de prueba primero sin usar regularización, y luego añade regularización para obtener una mejor generalización. Reporta al menos dos configuraciones que usen regularización y discute acerca de cómo varía la pérdida y el acierto en el conjunto de prueba comparado con cuando no usas regularización. \n",
    "\n",
    "Nota: Si quieres, puedes hacer esta parte después de que implementes la incialización y optimizaciones de la siguiente parte de la tarea, pero en esta parte nos interesa sobre todo la generalización."
   ],
   "cell_type": "markdown",
   "metadata": {}
  }
 ]
}