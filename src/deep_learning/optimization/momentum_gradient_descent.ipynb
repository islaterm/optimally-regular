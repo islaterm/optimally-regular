{
 "metadata": {
  "language_info": {
   "codemirror_mode": {
    "name": "ipython",
    "version": 3
   },
   "file_extension": ".py",
   "mimetype": "text/x-python",
   "name": "python",
   "nbconvert_exporter": "python",
   "pygments_lexer": "ipython3",
   "version": 3
  },
  "orig_nbformat": 2
 },
 "nbformat": 4,
 "nbformat_minor": 2,
 "cells": [
  {
   "source": [
    "## Descenso de gradiente con momentum\n",
    "\n",
    "En esta parte implementarás el descenso de gradiente con momentum lo que puede mejorar \n",
    "considerablemente el tiempo de entrenamiento de tu red. \n",
    "\n",
    "En clases/video vimos dos formulaciones, una considerando el promedio exponencial móvil de los \n",
    "gradientes pasados, y otra como una interpretación física. \n",
    "En esta parte implementarás la segunda. \n",
    "Recuerda que en este caso la idea es incrementar una variable de *velocidad* en la dirección \n",
    "contraria del gradiente (que haría las veces de *aceleración*) y usarla para actualizar los \n",
    "parámetros en cada paso del descenso estocástico de gradiente.\n",
    "Recuerda que adicionalmente un (hyper)parámetro $\\mu$ de *fricción* se utiliza para evitar la \n",
    "oscilación en direcciones de gradiente muy pronunciadas.\n",
    "En particular, para cada conjunto de parámetros $\\theta$, y para cada paso del descenso de \n",
    "gradiente se realiza el siguiente cálculo:\n",
    "$$\n",
    "  \\begin{aligned}\n",
    "    V_{\\partial \\theta} & \\gets & \\mu V_{\\partial \\theta} \n",
    "      - \\lambda \\frac{\\partial \\mathcal{L}}{\\partial \\theta} \\\\\n",
    "    \\theta & \\gets & \\theta + V_{\\partial \\theta}\n",
    "  \\end{aligned}\n",
    "$$\n",
    "en donde $V_{\\partial \\theta}$ es un tensor de las mismas dimensiones que los parámetros $\\theta$ y \n",
    "que se inicializa como $0$ antes de empezar el entrenamiento.\n",
    "\n",
    "Modifica la implementación de `SGD` que ya tenías anteriormente para considerar la fórmula de \n",
    "momentum descrita.\n",
    "Para esto agrega un nuevo argumento opcional `momentum` correspondiente al valor $\\mu$ de la \n",
    "ecuación de arriba, con un valor por defecto de 1.\n"
   ],
   "cell_type": "markdown",
   "metadata": {}
  }
 ]
}